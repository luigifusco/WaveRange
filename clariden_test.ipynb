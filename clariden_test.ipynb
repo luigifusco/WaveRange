{
 "cells": [
  {
   "cell_type": "code",
   "execution_count": 1,
   "metadata": {},
   "outputs": [],
   "source": [
    "import xarray as xr\n",
    "import numpy as np"
   ]
  },
  {
   "cell_type": "code",
   "execution_count": 2,
   "metadata": {},
   "outputs": [],
   "source": [
    "original = xr.open_dataset('/capstor/store/cscs/ERA5/weatherbench2_original', engine='zarr')\n",
    "wind_original = original['10m_u_component_of_wind']\n",
    "data = wind_original[:100, :, :].data"
   ]
  },
  {
   "cell_type": "code",
   "execution_count": 3,
   "metadata": {},
   "outputs": [],
   "source": [
    "from lib import LIBWAVERANGE, NLAYMAX\n",
    "import ctypes"
   ]
  },
  {
   "cell_type": "code",
   "execution_count": 9,
   "metadata": {},
   "outputs": [
    {
     "name": "stdout",
     "output_type": "stream",
     "text": [
      "compressed to 886493 (from 415296000, ratio of 468.47070422439884)\n",
      "0.00023744203\n"
     ]
    }
   ],
   "source": [
    "ntot_enc_max = NLAYMAX * max(1024, np.prod(data.shape))\n",
    "\n",
    "tolabs = ctypes.c_float()\n",
    "midval = ctypes.c_float()\n",
    "halfspanval = ctypes.c_float()\n",
    "wlev = ctypes.c_uint8()\n",
    "nlay = ctypes.c_uint8()\n",
    "ntot_enc = ctypes.c_ulong()\n",
    "cutoffval = ctypes.c_float(10000)\n",
    "deps_vec = np.zeros(NLAYMAX, dtype=np.float32)\n",
    "minval_vec = np.zeros(NLAYMAX, dtype=np.float32)\n",
    "len_enc_vec = np.zeros(NLAYMAX, dtype=np.uint64)\n",
    "data_enc = np.zeros(ntot_enc_max, dtype=np.uint8)\n",
    "\n",
    "output = np.zeros_like(data, dtype=np.float32)\n",
    "original = data.copy()\n",
    "\n",
    "LIBWAVERANGE.encoding_wrap_float(data.shape[-1], data.shape[-2], data.shape[-3], data, 1, 1, 1, 1, ctypes.pointer(cutoffval), ctypes.byref(tolabs),\n",
    "        ctypes.byref(midval), ctypes.byref(halfspanval), ctypes.byref(wlev), ctypes.byref(nlay), ctypes.byref(ntot_enc), deps_vec, minval_vec, len_enc_vec, data_enc)\n",
    "\n",
    "data_enc = data_enc[:ntot_enc.value]\n",
    "\n",
    "LIBWAVERANGE.decoding_wrap_float(data.shape[-1], data.shape[-2], data.shape[-3], output, ctypes.byref(tolabs),\n",
    "        ctypes.byref(midval), ctypes.byref(halfspanval), ctypes.byref(wlev), ctypes.byref(nlay), ctypes.byref(ntot_enc), deps_vec, minval_vec, len_enc_vec, data_enc)\n",
    "\n",
    "print(f'compressed to {ntot_enc.value} (from {original.nbytes}, ratio of {original.nbytes / ntot_enc.value})')\n",
    "print(np.max(np.abs(output - original)))"
   ]
  }
 ],
 "metadata": {
  "kernelspec": {
   "display_name": "Python 3",
   "language": "python",
   "name": "python3"
  },
  "language_info": {
   "codemirror_mode": {
    "name": "ipython",
    "version": 3
   },
   "file_extension": ".py",
   "mimetype": "text/x-python",
   "name": "python",
   "nbconvert_exporter": "python",
   "pygments_lexer": "ipython3",
   "version": "3.10.10"
  },
  "orig_nbformat": 4
 },
 "nbformat": 4,
 "nbformat_minor": 2
}
